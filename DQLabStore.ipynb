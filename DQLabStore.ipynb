{
 "cells": [
  {
   "cell_type": "markdown",
   "metadata": {},
   "source": [
    "# Data Analysis for E-Commerce Challenge"
   ]
  },
  {
   "cell_type": "markdown",
   "metadata": {},
   "source": [
    "# Import and Read Dataframe"
   ]
  },
  {
   "cell_type": "code",
   "execution_count": 1,
   "metadata": {},
   "outputs": [
    {
     "name": "stdout",
     "output_type": "stream",
     "text": [
      "order_details shape:  (187452, 5)\n",
      "order_detail_id    0\n",
      "order_id           0\n",
      "product_id         0\n",
      "price              0\n",
      "quantity           0\n",
      "dtype: int64\n",
      "\n",
      " orders shape:  (74874, 10)\n",
      "order_id          0\n",
      "seller_id         0\n",
      "buyer_id          0\n",
      "kodepos           0\n",
      "subtotal          0\n",
      "discount          0\n",
      "total             0\n",
      "created_at        0\n",
      "paid_at        5046\n",
      "delivery_at    9790\n",
      "dtype: int64\n",
      "\n",
      "products shape:  (1145, 4)\n",
      "product_id      0\n",
      "desc_product    0\n",
      "category        0\n",
      "base_price      0\n",
      "dtype: int64\n",
      "\n",
      "users shape:  (17936, 4)\n",
      "user_id      0\n",
      "nama_user    0\n",
      "kodepos      0\n",
      "email        0\n",
      "dtype: int64\n"
     ]
    }
   ],
   "source": [
    "#import Library\n",
    "import pandas as pd\n",
    "\n",
    "#Load Data\n",
    "order_details = pd.read_csv('order_details.csv', sep=';')\n",
    "orders = pd.read_csv('orders.csv', sep=';')\n",
    "products = pd.read_csv('products.csv', sep=';')\n",
    "users = pd.read_csv('users.csv', sep=';')\n",
    "\n",
    "#Checking Data\n",
    "print('order_details shape: ',order_details.shape)\n",
    "print(order_details.isna().sum())\n",
    "print('\\n orders shape: ', orders.shape)\n",
    "print(orders.isna().sum())\n",
    "print('\\nproducts shape: ', products.shape)\n",
    "print(products.isna().sum())\n",
    "print('\\nusers shape: ', users.shape)\n",
    "print(users.isna().sum())"
   ]
  },
  {
   "cell_type": "code",
   "execution_count": 2,
   "metadata": {},
   "outputs": [
    {
     "name": "stdout",
     "output_type": "stream",
     "text": [
      "Month_created_at\n",
      "2019-01      117\n",
      "2019-02      354\n",
      "2019-03      668\n",
      "2019-04      984\n",
      "2019-05     1462\n",
      "2019-06     1913\n",
      "2019-07     2667\n",
      "2019-08     3274\n",
      "2019-09     4327\n",
      "2019-10     5577\n",
      "2019-11     7162\n",
      "2019-12    10131\n",
      "2020-01     5062\n",
      "2020-02     5872\n",
      "2020-03     7323\n",
      "2020-04     7955\n",
      "2020-05    10026\n",
      "Freq: M, Name: order_id, dtype: int64\n"
     ]
    }
   ],
   "source": [
    "#Manipulating orders\n",
    "df = orders.copy()\n",
    "df['created_at'] = pd.to_datetime(df['created_at'])\n",
    "df['Month_created_at'] = df['created_at'].dt.to_period('m')\n",
    "Month = df.copy()\n",
    "Month = df.groupby(['Month_created_at'])['order_id'].count()\n",
    "print(Month)"
   ]
  },
  {
   "cell_type": "markdown",
   "metadata": {},
   "source": [
    "# Orders Sameday"
   ]
  },
  {
   "cell_type": "code",
   "execution_count": 40,
   "metadata": {},
   "outputs": [
    {
     "name": "stdout",
     "output_type": "stream",
     "text": [
      "(4588, 12)\n"
     ]
    }
   ],
   "source": [
    "#Manipulating orders to know delivery_at = paid_at\n",
    "sameday = df.copy()\n",
    "sameday['sameday'] = sameday['delivery_at'] == sameday['paid_at']\n",
    "print(sameday[sameday['sameday']==True].shape)"
   ]
  },
  {
   "cell_type": "markdown",
   "metadata": {},
   "source": [
    "Now we know that there were 4.588 orders delivered on the same day that the customer paid."
   ]
  },
  {
   "cell_type": "markdown",
   "metadata": {},
   "source": [
    "# Users perCategory"
   ]
  },
  {
   "cell_type": "code",
   "execution_count": 33,
   "metadata": {},
   "outputs": [
    {
     "name": "stdout",
     "output_type": "stream",
     "text": [
      "Number of all users:  17936\n",
      "Number of sellers:  0    69\n",
      "dtype: int64\n",
      "Number of buyers:  0    17877\n",
      "dtype: int64\n",
      "Number of both:  0    69\n",
      "dtype: int64\n"
     ]
    }
   ],
   "source": [
    "#Manipulating orders to determine how many users are buyer-only, seller-only, or both.\n",
    "seller = set(df['seller_id'])\n",
    "buyer = set(df['buyer_id'])\n",
    "both = seller.intersection(buyer)\n",
    "seller = pd.DataFrame(seller)\n",
    "buyer = pd.DataFrame(buyer)\n",
    "both = pd.DataFrame(both)\n",
    "print('Number of all users: ', users['user_id'].count())\n",
    "print('Number of sellers: ', seller.count())\n",
    "print('Number of buyers: ', buyer.count())\n",
    "print('Number of both: ', both.count())"
   ]
  },
  {
   "cell_type": "code",
   "execution_count": 61,
   "metadata": {},
   "outputs": [
    {
     "name": "stdout",
     "output_type": "stream",
     "text": [
      "Number of buyer-only:  17808\n",
      "Number of seller-only:  0\n",
      "Number of users without transaction:  59\n"
     ]
    }
   ],
   "source": [
    "print('Number of buyer-only: ', 17877-69)\n",
    "print('Number of seller-only: ', 69 - 69)\n",
    "print('Number of users without transaction: ', 17936 - 17877)"
   ]
  },
  {
   "cell_type": "markdown",
   "metadata": {},
   "source": [
    "Now we know that from 17.936 users, there are 17.808 as buyer-only, 0 as seller only, 69 as both, and 59 with no transaction."
   ]
  },
  {
   "cell_type": "markdown",
   "metadata": {},
   "source": [
    "# Top 5 Users with Biggest Nominal of Transaction"
   ]
  },
  {
   "cell_type": "code",
   "execution_count": 7,
   "metadata": {},
   "outputs": [
    {
     "name": "stdout",
     "output_type": "stream",
     "text": [
      "buyer_id\n",
      "14411    54102250\n",
      "11140    52743200\n",
      "15915    49141800\n",
      "2908     49033000\n",
      "10355    48868000\n",
      "Name: total, dtype: int64\n"
     ]
    }
   ],
   "source": [
    "#Determining the user with biggest nominal of transaction\n",
    "biggest_total = df.copy()\n",
    "biggest_total = biggest_total.drop(['order_id', 'seller_id', 'subtotal', 'discount', 'created_at', 'paid_at', 'delivery_at', 'Month_created_at'], axis=1)\n",
    "top_5 = biggest_total.groupby(['buyer_id'])['total'].sum()\n",
    "top_5 = top_5.sort_values(ascending=False)\n",
    "top_5 = top_5.head()\n",
    "print(top_5)"
   ]
  },
  {
   "cell_type": "code",
   "execution_count": 8,
   "metadata": {},
   "outputs": [
    {
     "name": "stdout",
     "output_type": "stream",
     "text": [
      "       user_id                      nama_user  kodepos  \\\n",
      "2907      2908            Septi Melani, S.Ked    68589   \n",
      "10354    10355                 Kartika Habibi      869   \n",
      "11139    11140  R.A. Yulia Padmasari, S.I.Kom    65882   \n",
      "14410    14411                 Jaga Puspasari    24303   \n",
      "15914    15915     Sutan Agus Ardianto, S.Kom    42909   \n",
      "\n",
      "                           email  \n",
      "2907      yuniaraurora@gmail.com  \n",
      "10354        siregarbakti@pd.gov  \n",
      "11139     safitriunggul@pt.co.id  \n",
      "14410  pratamacawisadi@yahoo.com  \n",
      "15914       twidiastuti@pt.go.id  \n"
     ]
    }
   ],
   "source": [
    "user = users.copy()\n",
    "biggest_total_top5 = ['14411', '11140', '15915', '2908', '10355']\n",
    "top_5_big = user[(user['user_id'].isin(biggest_total_top5))]\n",
    "print(top_5_big)"
   ]
  },
  {
   "cell_type": "markdown",
   "metadata": {},
   "source": [
    "Top Buyer All Time\n",
    "    1. Jaga Puspasari                      14411   Rp. 54.102.250\n",
    "    2. R.A. Yulia Padmasari, S.I.Kom       11140   Rp. 52.743.200\n",
    "    3. Sutan Agus Ardianto, S.Kom          15915   Rp. 49.141.800\n",
    "    4. Septi Melani, S.Ked                  2908   Rp. 49.033.000\n",
    "    5. Kartika Habibi                      10355   Rp. 48.868.000"
   ]
  },
  {
   "cell_type": "markdown",
   "metadata": {},
   "source": [
    "# Most Frequent Buyer (without discount)"
   ]
  },
  {
   "cell_type": "code",
   "execution_count": 69,
   "metadata": {},
   "outputs": [
    {
     "name": "stdout",
     "output_type": "stream",
     "text": [
      "buyer_id\n",
      "12476    13\n",
      "10977    12\n",
      "12577    12\n",
      "14309    11\n",
      "1251     11\n",
      "7543     11\n",
      "5620     11\n",
      "14172    11\n",
      "9260     11\n",
      "14095    11\n",
      "Name: order_id, dtype: int64\n"
     ]
    }
   ],
   "source": [
    "#Manipulating orders to know buyer with most frequence order without discount\n",
    "no_disc = df.copy()\n",
    "no_disc['with_discount'] = no_disc['discount'] != 0\n",
    "true = [True]\n",
    "no_disc = no_disc[no_disc.with_discount.isin(true) == False]\n",
    "no_disc = no_disc.groupby(['buyer_id'])['order_id'].count()\n",
    "no_disc = no_disc.sort_values(ascending = False)\n",
    "print(no_disc.head(10))"
   ]
  },
  {
   "cell_type": "code",
   "execution_count": 70,
   "metadata": {},
   "outputs": [
    {
     "name": "stdout",
     "output_type": "stream",
     "text": [
      "       user_id                 nama_user  kodepos                      email\n",
      "1250      1251              Septi Sinaga    61651      namagakayla@gmail.com\n",
      "5619      5620        Cakrawangsa Habibi     4010   namagaargono@hotmail.com\n",
      "7542      7543           Laras Puspasari    24163         rahmat51@pd.mil.id\n",
      "9259      9260           Bakiono Zulaika    33416    candrakanta88@gmail.com\n",
      "10976    10977  Drs. Pandu Mansur, M.TI.    16333          narji63@yahoo.com\n",
      "12475    12476            Yessi Wibisono    16556    parmanwaskita@gmail.com\n",
      "12576    12577             Umay Latupono    63191        lpradipta@perum.com\n",
      "14094    14095             Kamal Fujiati     3045  yuliantiharsaya@ud.biz.id\n",
      "14171    14172   Ophelia Oktaviani, S.H.    73282       mutiawidodo@ud.go.id\n",
      "14308    14309    Diah Nainggolan, S.E.I    92892    idaadriansyah@pt.biz.id\n"
     ]
    }
   ],
   "source": [
    "no_disc_top5 = ['12476', '10977', '12577', '14309', '1251', '7543', '5620', '14172', '9260', '14095']\n",
    "top_5_freq = users[(users['user_id'].isin(no_disc_top5))]\n",
    "print(top_5_freq)"
   ]
  },
  {
   "cell_type": "markdown",
   "metadata": {},
   "source": [
    "Most Frequent Buyers without discount\n",
    "    1. 12476    Yessi Wibisono             13x\n",
    "    2. 12577    Umay Latupono              12x\n",
    "    3. 10977    Drs. Pandu Mansur, M.TI.   12x\n",
    "    4. 14309    Diah Nainggolan, S.E.I     11x\n",
    "    5. 1251     Septi Sinaga               11x\n",
    "    6. 7543     Laras Puspasari            11x\n",
    "    7. 5620     Cakrawangsa Habibi         11x\n",
    "    8. 14172    Ophelia Oktaviani, S.H.    11x\n",
    "    9. 9260     Bakiono Zulaika            11x\n",
    "    10.14095    Kamal Fujiati              11x"
   ]
  },
  {
   "cell_type": "code",
   "execution_count": 28,
   "metadata": {},
   "outputs": [
    {
     "name": "stdout",
     "output_type": "stream",
     "text": [
      "       buyer_id     total created_at\n",
      "60188     12854  29143000 2020-05-04\n",
      "74489     11998   3328400 2020-01-01\n",
      "39904     11998   4087000 2020-05-21\n",
      "60768     11998   5978000 2020-02-25\n",
      "36874     11998   2126000 2020-03-29\n",
      "2792      11998   8985200 2020-04-28\n",
      "55158     11195  17156000 2020-04-29\n",
      "57545     11195   4062000 2020-05-20\n",
      "58740     11195   2831000 2020-02-19\n",
      "65316     11195   6637000 2020-03-26\n",
      "53844     11195    114000 2020-01-03\n",
      "32481     11195   4405000 2020-04-25\n",
      "18177     10028  27136000 2020-05-27\n",
      "64040      3185    168000 2020-03-09\n",
      "45130      3185  13500000 2020-02-18\n",
      "42667      3185    663000 2020-01-25\n",
      "15050      3185   2587400 2020-05-26\n",
      "64777      3185   9634000 2020-04-02\n"
     ]
    }
   ],
   "source": [
    "#Big Frequent Buyer 2020\n",
    "quest = ['12854', '11195', '10028', '3185', '11998']\n",
    "big_freq_buy = big_freq[(big_freq['buyer_id'].isin(quest))]\n",
    "big_freq_buy = big_freq_buy.sort_values(by='created_at', ascending = True)\n",
    "big_freq_buy = big_freq_buy.sort_values(by='buyer_id', ascending = False)\n",
    "big_freq_buy = big_freq_buy.drop(['order_id', 'seller_id', 'kodepos', 'subtotal', 'discount', 'paid_at', 'delivery_at', 'Month_created_at', 'twenty'], axis=1)\n",
    "print(big_freq_buy)"
   ]
  },
  {
   "cell_type": "markdown",
   "metadata": {},
   "source": [
    "From that output, we know that buyer_id 11998, 11195, and 3185 have an order atleast once every month on 2020 (untill May)."
   ]
  },
  {
   "cell_type": "markdown",
   "metadata": {},
   "source": [
    "# Email Domain of The Sellers"
   ]
  },
  {
   "cell_type": "code",
   "execution_count": 32,
   "metadata": {},
   "outputs": [
    {
     "name": "stdout",
     "output_type": "stream",
     "text": [
      "domain\n",
      "cv.co.id         1\n",
      "cv.id            1\n",
      "cv.mil           2\n",
      "cv.web.id        2\n",
      "gmail.com       16\n",
      "hotmail.com     14\n",
      "pd.ac.id         1\n",
      "pd.go.id         3\n",
      "pd.mil.id        1\n",
      "pd.my.id         1\n",
      "pd.net           1\n",
      "pd.org           1\n",
      "pd.sch.id        1\n",
      "pd.web.id        1\n",
      "perum.edu        2\n",
      "perum.int        1\n",
      "perum.mil        1\n",
      "perum.mil.id     1\n",
      "pt.gov           1\n",
      "pt.mil.id        1\n",
      "pt.net.id        3\n",
      "ud.edu           2\n",
      "ud.go.id         1\n",
      "ud.id            2\n",
      "ud.net           1\n",
      "ud.net.id        2\n",
      "yahoo.com        5\n",
      "Name: user_id, dtype: int64\n"
     ]
    },
    {
     "name": "stderr",
     "output_type": "stream",
     "text": [
      "<ipython-input-32-23360e44eb59>:4: SettingWithCopyWarning: \n",
      "A value is trying to be set on a copy of a slice from a DataFrame.\n",
      "Try using .loc[row_indexer,col_indexer] = value instead\n",
      "\n",
      "See the caveats in the documentation: https://pandas.pydata.org/pandas-docs/stable/user_guide/indexing.html#returning-a-view-versus-a-copy\n",
      "  Seller['domain'] = Seller['email'].apply(lambda x: x.split('@')[1])\n"
     ]
    }
   ],
   "source": [
    "#Determine email domain of the seller\n",
    "seller = df['seller_id']\n",
    "Seller = users[users.user_id.isin(seller) == True]\n",
    "Seller['domain'] = Seller['email'].apply(lambda x: x.split('@')[1])\n",
    "Seller_domain = Seller.groupby(['domain'])['user_id'].count()\n",
    "print(Seller_domain)"
   ]
  },
  {
   "cell_type": "markdown",
   "metadata": {},
   "source": [
    "# Top 5 Product on December 2019"
   ]
  },
  {
   "cell_type": "code",
   "execution_count": 16,
   "metadata": {},
   "outputs": [
    {
     "name": "stdout",
     "output_type": "stream",
     "text": [
      "   order_id Month_created_at\n",
      "0         3          2019-06\n",
      "1         5          2019-04\n",
      "2         8          2019-08\n",
      "3        19          2020-05\n",
      "4        31          2019-03\n",
      "(74874, 2)\n",
      "   order_id  order_detail_id  product_id  quantity\n",
      "0         3                5         907        36\n",
      "1         5                9         562        22\n",
      "2         8               15         645        32\n",
      "3        19               48         287        12\n",
      "4        19               49         201        27\n",
      "(187452, 4)\n",
      "   product_id                desc_product\n",
      "0           1         OLIVIA KULOT OLV03 \n",
      "1           2        BLANIK BLOUSE BL304 \n",
      "2           3  NEW DAY BY RIX DRESS ND01 \n",
      "3           4        BLANIK BLOUSE BL023 \n",
      "4           5        BLANIK BLAZER BL031 \n",
      "(1145, 2)\n"
     ]
    }
   ],
   "source": [
    "#Determining Top 5 Product on December 2019\n",
    "#Take order_id and month_created_at form orders to know the time of transaction\n",
    "time_order = df[['order_id', 'Month_created_at']].copy()\n",
    "print(time_order.head())\n",
    "print(time_order.shape)\n",
    "#Take order_id, order_detail_id and product_id from order_details to know the product on each order\n",
    "product_order = order_details[['order_id', 'order_detail_id', 'product_id', 'quantity']].copy()\n",
    "print(product_order.head())\n",
    "print(product_order.shape)\n",
    "#Take product_id and desc_product from products to know the product name of the product_id\n",
    "product_name = products[['product_id', 'desc_product']].copy()\n",
    "print(product_name.head())\n",
    "print(product_name.shape)\n",
    "#print(df.head())\n",
    "#print(order_details.head())"
   ]
  },
  {
   "cell_type": "code",
   "execution_count": 32,
   "metadata": {},
   "outputs": [
    {
     "name": "stdout",
     "output_type": "stream",
     "text": [
      "desc_product\n",
      "QUEEN CEFA BRACELET LEATHER                         2550\n",
      "SHEW SKIRTS BREE                                    1423\n",
      "ANNA FAITH LEGGING GLOSSY                           1323\n",
      "Cdr Vitamin C 10'S                                  1242\n",
      "RIDER CELANA DEWASA SPANDEX ANTI BAKTERI R325BW     1186\n",
      "Name: quantity, dtype: int64\n"
     ]
    }
   ],
   "source": [
    "merged = product_order.merge(time_order,on='order_id').merge(product_name,on='product_id')\n",
    "merged = merged.sort_values(by='order_id', ascending = True)\n",
    "merged['Dec_2019'] = merged['Month_created_at'] > '2019-12'\n",
    "true = [True]\n",
    "merged = merged[merged.Dec_2019.isin(true) == False]\n",
    "merged['Dec_2019'] = merged['Month_created_at'] < '2019-12'\n",
    "merged = merged[merged.Dec_2019.isin(true) == False]\n",
    "group_merged = merged.groupby(['desc_product'])['quantity'].sum()\n",
    "group_merged = group_merged.sort_values(ascending = False)\n",
    "print(group_merged.head(5))"
   ]
  }
 ],
 "metadata": {
  "kernelspec": {
   "display_name": "Python 3",
   "language": "python",
   "name": "python3"
  },
  "language_info": {
   "codemirror_mode": {
    "name": "ipython",
    "version": 3
   },
   "file_extension": ".py",
   "mimetype": "text/x-python",
   "name": "python",
   "nbconvert_exporter": "python",
   "pygments_lexer": "ipython3",
   "version": "3.8.3"
  }
 },
 "nbformat": 4,
 "nbformat_minor": 4
}
